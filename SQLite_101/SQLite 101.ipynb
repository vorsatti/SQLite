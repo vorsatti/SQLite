{
 "cells": [
  {
   "cell_type": "code",
   "execution_count": 3,
   "metadata": {},
   "outputs": [],
   "source": [
    "import sqlite3 as db"
   ]
  },
  {
   "cell_type": "code",
   "execution_count": 4,
   "metadata": {},
   "outputs": [],
   "source": [
    "conn = db.connect('example.db')"
   ]
  },
  {
   "cell_type": "code",
   "execution_count": 5,
   "metadata": {},
   "outputs": [],
   "source": [
    "# Create a 'cursor' for executing commands\n",
    "c = conn.cursor()"
   ]
  },
  {
   "cell_type": "code",
   "execution_count": 14,
   "metadata": {},
   "outputs": [
    {
     "data": {
      "text/plain": [
       "<sqlite3.Cursor at 0x4f9c110>"
      ]
     },
     "execution_count": 14,
     "metadata": {},
     "output_type": "execute_result"
    }
   ],
   "source": [
    "# If this is not the first time you run this cell, \n",
    "# you need to delete the existed \"Students\" table first\n",
    "\n",
    "c.execute(\"DROP TABLE IF EXISTS Students\")    \n",
    "c.execute(\"DROP TABLE IF EXISTS Takes\") \n",
    "\n",
    "# create a table named \"Students\" with 2 columns: \"gtid\" and \"name\".\n",
    "# the type for column \"gtid\" is integer and for \"name\" is text. \n",
    "c.execute('CREATE TABLE Takes (gtid INTEGER, course TEXT, grade REAL)')\n",
    "c.execute(\"CREATE TABLE Students (gtid INTEGER, name TEXT)\")"
   ]
  },
  {
   "cell_type": "code",
   "execution_count": 15,
   "metadata": {},
   "outputs": [
    {
     "data": {
      "text/plain": [
       "<sqlite3.Cursor at 0x4f9c110>"
      ]
     },
     "execution_count": 15,
     "metadata": {},
     "output_type": "execute_result"
    }
   ],
   "source": [
    "c.execute(\"INSERT INTO Students VALUES (123, 'Vuduc')\")\n",
    "c.execute(\"INSERT INTO Students VALUES (456, 'Chau')\")\n",
    "c.execute(\"INSERT INTO Students VALUES (381, 'Bader')\")\n",
    "c.execute(\"INSERT INTO Students VALUES (991, 'Sokol')\")"
   ]
  },
  {
   "cell_type": "code",
   "execution_count": 16,
   "metadata": {},
   "outputs": [],
   "source": [
    "more_students = [(723, 'Rozga'),\n",
    "                 (882, 'Zha'),\n",
    "                 (401, 'Park'),\n",
    "                 (377, 'Vetter'),\n",
    "                 (904, 'Brown')]\n",
    "\n",
    "# '?' question marks are placeholders for the two columns in Students table\n",
    "c.executemany('INSERT INTO Students VALUES (?, ?)', more_students)\n",
    "conn.commit()"
   ]
  },
  {
   "cell_type": "code",
   "execution_count": 17,
   "metadata": {},
   "outputs": [
    {
     "data": {
      "text/plain": [
       "<sqlite3.Cursor at 0x4f9c110>"
      ]
     },
     "execution_count": 17,
     "metadata": {},
     "output_type": "execute_result"
    }
   ],
   "source": [
    "takes_data = [\n",
    "    (123, 'CSE 6040', 4.0),\n",
    "    (123, 'ISYE 6644', 3.0),\n",
    "    (123, 'MGMT 8803', 1.0),\n",
    "    (991, 'CSE 6040', 4.0),\n",
    "    (991, 'ISYE 6740', 4.0),\n",
    "    (456, 'CSE 6040', 4.0),\n",
    "    (456, 'CSE 6740', 2.0),\n",
    "    (456, 'MGMT 8803', 3.0)\n",
    "]\n",
    "c.executemany('INSERT INTO Takes VALUES (?, ?, ?)', takes_data)"
   ]
  },
  {
   "cell_type": "markdown",
   "metadata": {},
   "source": [
    "__Commitment issues__. The commands above modify the database. However, these are temporary modifications and aren't actually saved to the databases until you say so. (Aside: Why would you want such behavior?) The way to do that is to issue a commit operation from the connection object."
   ]
  },
  {
   "cell_type": "code",
   "execution_count": 18,
   "metadata": {},
   "outputs": [],
   "source": [
    "conn.commit()"
   ]
  },
  {
   "cell_type": "code",
   "execution_count": 19,
   "metadata": {},
   "outputs": [
    {
     "name": "stdout",
     "output_type": "stream",
     "text": [
      "Your results: 8 \n",
      "The entries of Takes: [(123, 'CSE 6040', 4.0), (123, 'ISYE 6644', 3.0), (123, 'MGMT 8803', 1.0), (991, 'CSE 6040', 4.0), (991, 'ISYE 6740', 4.0), (456, 'CSE 6040', 4.0), (456, 'CSE 6740', 2.0), (456, 'MGMT 8803', 3.0)]\n"
     ]
    }
   ],
   "source": [
    "# Displays the results of your code\n",
    "c.execute('SELECT * FROM Takes')\n",
    "results = c.fetchall()\n",
    "print(\"Your results:\", len(results), \"\\nThe entries of Takes:\", results)"
   ]
  },
  {
   "cell_type": "code",
   "execution_count": 20,
   "metadata": {},
   "outputs": [],
   "source": [
    "# Close the database\n",
    "conn.close()"
   ]
  },
  {
   "cell_type": "markdown",
   "metadata": {},
   "source": [
    "### Lesson 1: Join queries\n",
    "The main type of query that combines information from multiple tables is the join query. Recall from our discussion of tibbles these four types:\n",
    "\n",
    "- INNER JOIN(A, B): Keep rows of A and B only where A and B match\n",
    "- OUTER JOIN(A, B): Keep all rows of A and B, but merge matching rows and fill in missing values with some default (NaN in Pandas, NULL in SQL)\n",
    "- LEFT JOIN(A, B): Keep all rows of A but only merge matches from B.\n",
    "- RIGHT JOIN(A, B): Keep all rows of B but only merge matches from A.\n",
    "If you are a visual person, see this page for illustrations of the different join types.\n",
    "\n",
    "In SQL, you can use the WHERE clause of a SELECT statement to specify how to match rows from the tables being joined. For example, recall that the Takes table stores classes taken by each student. However, these classes are recorded by a student's GT ID. Suppose we want a report where we want each student's name rather than his/her ID. We can get the matching name from the Students table. Here is a query to accomplish this matching:"
   ]
  },
  {
   "cell_type": "code",
   "execution_count": null,
   "metadata": {},
   "outputs": [],
   "source": [
    "conn = db.connect('example.db')\n",
    "c = conn.cursor()"
   ]
  },
  {
   "cell_type": "markdown",
   "metadata": {},
   "source": [
    "#### See all (name, course, grade) tuples"
   ]
  },
  {
   "cell_type": "code",
   "execution_count": 22,
   "metadata": {
    "scrolled": true
   },
   "outputs": [
    {
     "name": "stdout",
     "output_type": "stream",
     "text": [
      "('Vuduc', 'CSE 6040', 4.0)\n",
      "('Vuduc', 'ISYE 6644', 3.0)\n",
      "('Vuduc', 'MGMT 8803', 1.0)\n",
      "('Chau', 'CSE 6040', 4.0)\n",
      "('Chau', 'CSE 6740', 2.0)\n",
      "('Chau', 'MGMT 8803', 3.0)\n",
      "('Sokol', 'CSE 6040', 4.0)\n",
      "('Sokol', 'ISYE 6740', 4.0)\n"
     ]
    }
   ],
   "source": [
    "query = '''\n",
    "        SELECT Students.name, Takes.course, Takes.grade\n",
    "        FROM Students, Takes\n",
    "        WHERE Students.gtid = Takes.gtid\n",
    "'''\n",
    "\n",
    "for match in c.execute(query): # Note this alternative idiom for iterating over query results\n",
    "    print(match)"
   ]
  },
  {
   "cell_type": "markdown",
   "metadata": {},
   "source": [
    "_example of \"AND\"_"
   ]
  },
  {
   "cell_type": "code",
   "execution_count": 23,
   "metadata": {
    "scrolled": true
   },
   "outputs": [
    {
     "data": {
      "text/plain": [
       "[('Vuduc', 4.0), ('Sokol', 4.0), ('Chau', 4.0)]"
      ]
     },
     "execution_count": 23,
     "metadata": {},
     "output_type": "execute_result"
    }
   ],
   "source": [
    "query = '''\n",
    "        SELECT Students.name, Takes.grade\n",
    "        FROM Students, Takes\n",
    "        WHERE Students.gtid = Takes.gtid AND Takes.course = 'CSE 6040'\n",
    "'''\n",
    "c.execute(query)\n",
    "results1 = c.fetchall()\n",
    "results1"
   ]
  },
  {
   "cell_type": "markdown",
   "metadata": {},
   "source": [
    "#### LEFT JOIN"
   ]
  },
  {
   "cell_type": "code",
   "execution_count": 24,
   "metadata": {
    "scrolled": true
   },
   "outputs": [
    {
     "name": "stdout",
     "output_type": "stream",
     "text": [
      "0 -> ('Vuduc', 1.0)\n",
      "1 -> ('Vuduc', 3.0)\n",
      "2 -> ('Vuduc', 4.0)\n",
      "3 -> ('Chau', 2.0)\n",
      "4 -> ('Chau', 3.0)\n",
      "5 -> ('Chau', 4.0)\n",
      "6 -> ('Bader', None)\n",
      "7 -> ('Sokol', 4.0)\n",
      "8 -> ('Sokol', 4.0)\n",
      "9 -> ('Rozga', None)\n",
      "10 -> ('Zha', None)\n",
      "11 -> ('Park', None)\n",
      "12 -> ('Vetter', None)\n",
      "13 -> ('Brown', None)\n"
     ]
    }
   ],
   "source": [
    "query = '''\n",
    "        SELECT Students.name, Takes.grade\n",
    "        FROM Students LEFT JOIN Takes ON\n",
    "        Students.gtid = Takes.gtid\n",
    "'''\n",
    "# Executes your `query` string:\n",
    "c.execute(query)\n",
    "matches = c.fetchall()\n",
    "for i, match in enumerate(matches):\n",
    "    print(i, \"->\", match)"
   ]
  },
  {
   "cell_type": "markdown",
   "metadata": {},
   "source": [
    "### Aggregations"
   ]
  },
  {
   "cell_type": "code",
   "execution_count": 25,
   "metadata": {},
   "outputs": [
    {
     "name": "stdout",
     "output_type": "stream",
     "text": [
      "(123, 2.6666666666666665)\n",
      "(456, 3.0)\n",
      "(991, 4.0)\n"
     ]
    }
   ],
   "source": [
    "query = '''\n",
    "        SELECT gtid, AVG(grade)\n",
    "        FROM Takes \n",
    "        GROUP BY gtid\n",
    "'''\n",
    "\n",
    "for match in c.execute(query):\n",
    "    print(match)"
   ]
  },
  {
   "cell_type": "markdown",
   "metadata": {},
   "source": [
    "### Cleanup"
   ]
  },
  {
   "cell_type": "code",
   "execution_count": 26,
   "metadata": {},
   "outputs": [],
   "source": [
    "c.close()\n",
    "conn.close()"
   ]
  }
 ],
 "metadata": {
  "kernelspec": {
   "display_name": "Python 3",
   "language": "python",
   "name": "python3"
  },
  "language_info": {
   "codemirror_mode": {
    "name": "ipython",
    "version": 3
   },
   "file_extension": ".py",
   "mimetype": "text/x-python",
   "name": "python",
   "nbconvert_exporter": "python",
   "pygments_lexer": "ipython3",
   "version": "3.6.5"
  }
 },
 "nbformat": 4,
 "nbformat_minor": 2
}
